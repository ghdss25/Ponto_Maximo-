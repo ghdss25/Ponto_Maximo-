{
 "cells": [
  {
   "cell_type": "markdown",
   "id": "7a1dd30f",
   "metadata": {},
   "source": [
    "## Definição do Problema "
   ]
  },
  {
   "cell_type": "markdown",
   "id": "543c6938",
   "metadata": {},
   "source": [
    "** Haverá diversas reuniões para definição da estratégia de vendas e os relatórios poderão ser extraídos  \n",
    "sob  demanda,  de  acordo  com  a  necessidade  dos  gestores. ** \n",
    "\n",
    "** A empresa está montando a estratégia de vendas para o próximo ano e precisa saber qual dos fabricantes dos produtos vendidos, apresenta melhor desempenho nas vendas. O objetivo é descartar  os  fabricantes  cujos  produtos  possuem  poucas  vendas  e  tentar  negociar  melhores condições com os principais fabricantes. ** \n",
    "\n",
    "** Em paralelo a isso, a empresa gostaria de ter diferentes visões das vendas realizadas nos últimos 4 anos (período de 2012 a 2015). Deve ser possível segmentar os relatórios de vendas por  diferentes  informações  e  \n",
    "por diferentes  ângulos.  Estas  informações  irão  suportar  as estratégias da empresa para o próximo ano. **\n",
    "\n",
    "** Por  conta  disso,  você deve criar um modelo de dados que permita a extração de relatórios \n",
    "a qualquer momento e que permita extrair dados por diferentes visões e ângulos.\n",
    "Seu trabalho é fazer isso acontecer! ** \n"
   ]
  },
  {
   "cell_type": "code",
   "execution_count": 35,
   "id": "a8a3fe84",
   "metadata": {},
   "outputs": [
    {
     "ename": "NameError",
     "evalue": "name 'mpimg' is not defined",
     "output_type": "error",
     "traceback": [
      "\u001b[0;31m---------------------------------------------------------------------------\u001b[0m",
      "\u001b[0;31mNameError\u001b[0m                                 Traceback (most recent call last)",
      "\u001b[0;32m<ipython-input-35-e6dfd5172343>\u001b[0m in \u001b[0;36m<module>\u001b[0;34m\u001b[0m\n\u001b[0;32m----> 1\u001b[0;31m \u001b[0mimg\u001b[0m \u001b[0;34m=\u001b[0m \u001b[0mmpimg\u001b[0m\u001b[0;34m.\u001b[0m\u001b[0mimread\u001b[0m\u001b[0;34m(\u001b[0m\u001b[0;34m'Vends.jpeg'\u001b[0m\u001b[0;34m)\u001b[0m\u001b[0;34m\u001b[0m\u001b[0;34m\u001b[0m\u001b[0m\n\u001b[0m\u001b[1;32m      2\u001b[0m \u001b[0mimgplot\u001b[0m \u001b[0;34m=\u001b[0m \u001b[0mplt\u001b[0m\u001b[0;34m.\u001b[0m\u001b[0mimshow\u001b[0m\u001b[0;34m(\u001b[0m\u001b[0mimg\u001b[0m\u001b[0;34m)\u001b[0m\u001b[0;34m\u001b[0m\u001b[0;34m\u001b[0m\u001b[0m\n\u001b[1;32m      3\u001b[0m \u001b[0mplt\u001b[0m\u001b[0;34m.\u001b[0m\u001b[0mshow\u001b[0m\u001b[0;34m(\u001b[0m\u001b[0;34m)\u001b[0m\u001b[0;34m\u001b[0m\u001b[0;34m\u001b[0m\u001b[0m\n",
      "\u001b[0;31mNameError\u001b[0m: name 'mpimg' is not defined"
     ]
    }
   ],
   "source": [
    "img = mpimg.imread('Vends.jpeg') \n",
    "imgplot = plt.imshow(img) \n",
    "plt.show()"
   ]
  },
  {
   "cell_type": "markdown",
   "id": "4fe9a577",
   "metadata": {},
   "source": [
    "## Definando as Tarefas para os Dados de Vendas "
   ]
  },
  {
   "cell_type": "markdown",
   "id": "2cebfc3c",
   "metadata": {},
   "source": [
    "** Valor de Vendas ** \n",
    "\n",
    "* Total de Vendas \n",
    "* Média de Vendas  \n",
    "\n",
    "** Código de Lojas ** \n",
    "\n",
    "* Contagem de ID das Lojas \n",
    "* Total de Vendas \n",
    "* Média de Vendas \n",
    "\n",
    "** Produto por Cidade, Estado ** \n",
    "\n",
    "* Total de Vendas\n",
    "* Média de Vendas\n",
    "\n",
    "** Categoria por Cidade, Estado ** \n",
    "\n",
    "* Total de Vendas \n",
    "* Média de Vendas \n",
    "\n",
    "** Fabricante por Cidade, Estado ** \n",
    "\n",
    "* Total de Vendas \n",
    "* Média de Vendas \n",
    "\n",
    "** Vendedores por Cidade, Estado, Fabricante, Produto, Segmento e Categoria ** \n",
    "\n",
    "* Total de Vendas \n",
    "* Média de Vendas \n",
    "\n",
    "** Data por Valor de Venda ** \n",
    "\n",
    "* Total de Vendas \n",
    "* Média de Vendas\n"
   ]
  },
  {
   "cell_type": "markdown",
   "id": "2f819afe",
   "metadata": {},
   "source": [
    "## Importando as Bibliotecas do Python "
   ]
  },
  {
   "cell_type": "code",
   "execution_count": 36,
   "id": "fc9e0f14",
   "metadata": {},
   "outputs": [],
   "source": [
    "import pandas as pd \n",
    "import numpy as np "
   ]
  },
  {
   "cell_type": "markdown",
   "id": "7bb06f03",
   "metadata": {},
   "source": [
    "## Lendo as informações do arquivo de Vendas do Ponto Máximo"
   ]
  },
  {
   "cell_type": "code",
   "execution_count": 37,
   "id": "d8c79c9e",
   "metadata": {},
   "outputs": [
    {
     "data": {
      "text/html": [
       "<div>\n",
       "<style scoped>\n",
       "    .dataframe tbody tr th:only-of-type {\n",
       "        vertical-align: middle;\n",
       "    }\n",
       "\n",
       "    .dataframe tbody tr th {\n",
       "        vertical-align: top;\n",
       "    }\n",
       "\n",
       "    .dataframe thead th {\n",
       "        text-align: right;\n",
       "    }\n",
       "</style>\n",
       "<table border=\"1\" class=\"dataframe\">\n",
       "  <thead>\n",
       "    <tr style=\"text-align: right;\">\n",
       "      <th></th>\n",
       "      <th>ValorVenda</th>\n",
       "    </tr>\n",
       "  </thead>\n",
       "  <tbody>\n",
       "    <tr>\n",
       "      <th>0</th>\n",
       "      <td>679.00</td>\n",
       "    </tr>\n",
       "    <tr>\n",
       "      <th>1</th>\n",
       "      <td>832.00</td>\n",
       "    </tr>\n",
       "    <tr>\n",
       "      <th>2</th>\n",
       "      <td>790.00</td>\n",
       "    </tr>\n",
       "    <tr>\n",
       "      <th>3</th>\n",
       "      <td>765.32</td>\n",
       "    </tr>\n",
       "    <tr>\n",
       "      <th>4</th>\n",
       "      <td>459.89</td>\n",
       "    </tr>\n",
       "    <tr>\n",
       "      <th>...</th>\n",
       "      <td>...</td>\n",
       "    </tr>\n",
       "    <tr>\n",
       "      <th>452</th>\n",
       "      <td>1234.00</td>\n",
       "    </tr>\n",
       "    <tr>\n",
       "      <th>453</th>\n",
       "      <td>1234.00</td>\n",
       "    </tr>\n",
       "    <tr>\n",
       "      <th>454</th>\n",
       "      <td>1230.00</td>\n",
       "    </tr>\n",
       "    <tr>\n",
       "      <th>455</th>\n",
       "      <td>1234.00</td>\n",
       "    </tr>\n",
       "    <tr>\n",
       "      <th>456</th>\n",
       "      <td>1234.00</td>\n",
       "    </tr>\n",
       "  </tbody>\n",
       "</table>\n",
       "<p>457 rows × 1 columns</p>\n",
       "</div>"
      ],
      "text/plain": [
       "     ValorVenda\n",
       "0        679.00\n",
       "1        832.00\n",
       "2        790.00\n",
       "3        765.32\n",
       "4        459.89\n",
       "..          ...\n",
       "452     1234.00\n",
       "453     1234.00\n",
       "454     1230.00\n",
       "455     1234.00\n",
       "456     1234.00\n",
       "\n",
       "[457 rows x 1 columns]"
      ]
     },
     "execution_count": 37,
     "metadata": {},
     "output_type": "execute_result"
    }
   ],
   "source": [
    "tot_vendas = pd.read_excel(\"Vendas.xlsx\", sheet_name=\"Vendas\", usecols=\"L\")\n",
    "tot_vendas"
   ]
  },
  {
   "cell_type": "markdown",
   "id": "bc33eadd",
   "metadata": {},
   "source": [
    "## Análise Geral de Vendas do Ponto Máximo "
   ]
  },
  {
   "cell_type": "code",
   "execution_count": 38,
   "id": "1cac02ea",
   "metadata": {},
   "outputs": [
    {
     "data": {
      "text/html": [
       "<div>\n",
       "<style scoped>\n",
       "    .dataframe tbody tr th:only-of-type {\n",
       "        vertical-align: middle;\n",
       "    }\n",
       "\n",
       "    .dataframe tbody tr th {\n",
       "        vertical-align: top;\n",
       "    }\n",
       "\n",
       "    .dataframe thead th {\n",
       "        text-align: right;\n",
       "    }\n",
       "</style>\n",
       "<table border=\"1\" class=\"dataframe\">\n",
       "  <thead>\n",
       "    <tr style=\"text-align: right;\">\n",
       "      <th></th>\n",
       "      <th>Total de Vendas</th>\n",
       "      <th>Média de Vendas</th>\n",
       "      <th>Desvio Padrão</th>\n",
       "      <th>Mediana</th>\n",
       "      <th>Quartil</th>\n",
       "      <th>Percentile</th>\n",
       "      <th>Variância</th>\n",
       "    </tr>\n",
       "  </thead>\n",
       "  <tbody>\n",
       "    <tr>\n",
       "      <th>0</th>\n",
       "      <td>R$ 361,081.11</td>\n",
       "      <td>R$ 790.11</td>\n",
       "      <td>R$ 755.54</td>\n",
       "      <td>R$ 671.00</td>\n",
       "      <td>R$ 167.00</td>\n",
       "      <td>R$ 1,230.00</td>\n",
       "      <td>R$ 570,842.32</td>\n",
       "    </tr>\n",
       "  </tbody>\n",
       "</table>\n",
       "</div>"
      ],
      "text/plain": [
       "  Total de Vendas Média de Vendas Desvio Padrão    Mediana    Quartil  \\\n",
       "0   R$ 361,081.11       R$ 790.11     R$ 755.54  R$ 671.00  R$ 167.00   \n",
       "\n",
       "    Percentile      Variância  \n",
       "0  R$ 1,230.00  R$ 570,842.32  "
      ]
     },
     "execution_count": 38,
     "metadata": {},
     "output_type": "execute_result"
    }
   ],
   "source": [
    "total = tot_vendas[\"ValorVenda\"].sum()\n",
    "media = tot_vendas[\"ValorVenda\"].mean()\n",
    "desvio = tot_vendas[\"ValorVenda\"].std()\n",
    "mediana = tot_vendas[\"ValorVenda\"].median()\n",
    "quartil = tot_vendas[\"ValorVenda\"].quantile(0.25)\n",
    "percentile = tot_vendas[\"ValorVenda\"].quantile(0.75)\n",
    "variancia = tot_vendas[\"ValorVenda\"].var()\n",
    "\n",
    "\n",
    "analise_t_m = pd.DataFrame({\"Total de Vendas\" : [total], \n",
    "                            \"Média de Vendas\" : [media], \n",
    "                            \"Desvio Padrão\" : [desvio], \n",
    "                            \"Mediana\" : [mediana], \n",
    "                            \"Quartil\" : [quartil], \n",
    "                            \"Percentile\" : [percentile],\n",
    "                            \"Variância\" : [variancia]}) \n",
    "\n",
    "analise_t_m[\"Total de Vendas\"] = analise_t_m[\"Total de Vendas\"].map(\"R$ {:,.2f}\".format)\n",
    "analise_t_m[\"Média de Vendas\"] = analise_t_m[\"Média de Vendas\"].map(\"R$ {:,.2f}\".format)\n",
    "analise_t_m[\"Desvio Padrão\"] = analise_t_m[\"Desvio Padrão\"].map(\"R$ {:,.2f}\".format)\n",
    "analise_t_m[\"Mediana\"] = analise_t_m[\"Mediana\"].map(\"R$ {:,.2f}\".format)\n",
    "analise_t_m[\"Quartil\"] = analise_t_m[\"Quartil\"].map(\"R$ {:,.2f}\".format)\n",
    "analise_t_m[\"Percentile\"] = analise_t_m[\"Percentile\"].map(\"R$ {:,.2f}\".format)\n",
    "analise_t_m[\"Variância\"] = analise_t_m[\"Variância\"].map(\"R$ {:,.2f}\".format)\n",
    "\n",
    "analise_t_m"
   ]
  },
  {
   "cell_type": "code",
   "execution_count": null,
   "id": "b62d95a4",
   "metadata": {},
   "outputs": [],
   "source": []
  },
  {
   "cell_type": "code",
   "execution_count": null,
   "id": "4975b4da",
   "metadata": {},
   "outputs": [],
   "source": []
  }
 ],
 "metadata": {
  "kernelspec": {
   "display_name": "Python 3",
   "language": "python",
   "name": "python3"
  },
  "language_info": {
   "codemirror_mode": {
    "name": "ipython",
    "version": 3
   },
   "file_extension": ".py",
   "mimetype": "text/x-python",
   "name": "python",
   "nbconvert_exporter": "python",
   "pygments_lexer": "ipython3",
   "version": "3.8.8"
  }
 },
 "nbformat": 4,
 "nbformat_minor": 5
}
